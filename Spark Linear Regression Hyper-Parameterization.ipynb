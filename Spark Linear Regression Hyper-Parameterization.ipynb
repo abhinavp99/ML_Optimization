{
 "cells": [
  {
   "cell_type": "code",
   "execution_count": 1,
   "metadata": {
    "collapsed": true
   },
   "outputs": [],
   "source": [
    "import findspark\n",
    "findspark.init()"
   ]
  },
  {
   "cell_type": "code",
   "execution_count": 2,
   "metadata": {},
   "outputs": [
    {
     "name": "stdout",
     "output_type": "stream",
     "text": [
      "This script is Deprecated. Instead use start-dfs.sh and start-yarn.sh\n",
      "Starting namenodes on [localhost]\n",
      "localhost: starting namenode, logging to /usr/local/hadoop-2.8.1/logs/hadoop-ethan-namenode-ethan-HP-Spectre-x360-Convertible-13.out\n",
      "localhost: starting datanode, logging to /usr/local/hadoop-2.8.1/logs/hadoop-ethan-datanode-ethan-HP-Spectre-x360-Convertible-13.out\n",
      "Starting secondary namenodes [0.0.0.0]\n",
      "0.0.0.0: starting secondarynamenode, logging to /usr/local/hadoop-2.8.1/logs/hadoop-ethan-secondarynamenode-ethan-HP-Spectre-x360-Convertible-13.out\n",
      "starting yarn daemons\n",
      "starting resourcemanager, logging to /usr/local/hadoop-2.8.1/logs/yarn-ethan-resourcemanager-ethan-HP-Spectre-x360-Convertible-13.out\n",
      "localhost: starting nodemanager, logging to /usr/local/hadoop-2.8.1/logs/yarn-ethan-nodemanager-ethan-HP-Spectre-x360-Convertible-13.out\n"
     ]
    },
    {
     "name": "stderr",
     "output_type": "stream",
     "text": [
      "18/04/13 18:15:32 WARN util.NativeCodeLoader: Unable to load native-hadoop library for your platform... using builtin-java classes where applicable\n",
      "18/04/13 18:15:48 WARN util.NativeCodeLoader: Unable to load native-hadoop library for your platform... using builtin-java classes where applicable\n"
     ]
    }
   ],
   "source": [
    "%%bash\n",
    "start-all.sh"
   ]
  },
  {
   "cell_type": "code",
   "execution_count": 3,
   "metadata": {},
   "outputs": [
    {
     "name": "stdout",
     "output_type": "stream",
     "text": [
      "Formatting using clusterid: CID-4c775288-d2a2-4634-8726-550a65599c67\n"
     ]
    },
    {
     "name": "stderr",
     "output_type": "stream",
     "text": [
      "18/04/13 18:15:52 INFO namenode.NameNode: STARTUP_MSG: \n",
      "/************************************************************\n",
      "STARTUP_MSG: Starting NameNode\n",
      "STARTUP_MSG:   user = ethan\n",
      "STARTUP_MSG:   host = ethan-HP-Spectre-x360-Convertible-13/127.0.1.1\n",
      "STARTUP_MSG:   args = [-format]\n",
      "STARTUP_MSG:   version = 2.8.1\n",
      "STARTUP_MSG:   classpath = /usr/local/hadoop-2.8.1/etc/hadoop:/usr/local/hadoop/share/hadoop/common/lib/guava-11.0.2.jar:/usr/local/hadoop/share/hadoop/common/lib/jackson-jaxrs-1.9.13.jar:/usr/local/hadoop/share/hadoop/common/lib/commons-math3-3.1.1.jar:/usr/local/hadoop/share/hadoop/common/lib/commons-digester-1.8.jar:/usr/local/hadoop/share/hadoop/common/lib/slf4j-log4j12-1.7.10.jar:/usr/local/hadoop/share/hadoop/common/lib/commons-cli-1.2.jar:/usr/local/hadoop/share/hadoop/common/lib/api-asn1-api-1.0.0-M20.jar:/usr/local/hadoop/share/hadoop/common/lib/avro-1.7.4.jar:/usr/local/hadoop/share/hadoop/common/lib/jackson-mapper-asl-1.9.13.jar:/usr/local/hadoop/share/hadoop/common/lib/hadoop-auth-2.8.1.jar:/usr/local/hadoop/share/hadoop/common/lib/curator-framework-2.7.1.jar:/usr/local/hadoop/share/hadoop/common/lib/commons-compress-1.4.1.jar:/usr/local/hadoop/share/hadoop/common/lib/httpcore-4.4.4.jar:/usr/local/hadoop/share/hadoop/common/lib/commons-net-3.1.jar:/usr/local/hadoop/share/hadoop/common/lib/api-util-1.0.0-M20.jar:/usr/local/hadoop/share/hadoop/common/lib/jaxb-impl-2.2.3-1.jar:/usr/local/hadoop/share/hadoop/common/lib/hadoop-annotations-2.8.1.jar:/usr/local/hadoop/share/hadoop/common/lib/asm-3.2.jar:/usr/local/hadoop/share/hadoop/common/lib/gson-2.2.4.jar:/usr/local/hadoop/share/hadoop/common/lib/jersey-json-1.9.jar:/usr/local/hadoop/share/hadoop/common/lib/netty-3.6.2.Final.jar:/usr/local/hadoop/share/hadoop/common/lib/jackson-xc-1.9.13.jar:/usr/local/hadoop/share/hadoop/common/lib/apacheds-kerberos-codec-2.0.0-M15.jar:/usr/local/hadoop/share/hadoop/common/lib/curator-recipes-2.7.1.jar:/usr/local/hadoop/share/hadoop/common/lib/jsr305-3.0.0.jar:/usr/local/hadoop/share/hadoop/common/lib/servlet-api-2.5.jar:/usr/local/hadoop/share/hadoop/common/lib/xz-1.0.jar:/usr/local/hadoop/share/hadoop/common/lib/zookeeper-3.4.6.jar:/usr/local/hadoop/share/hadoop/common/lib/snappy-java-1.0.4.1.jar:/usr/local/hadoop/share/hadoop/common/lib/commons-collections-3.2.2.jar:/usr/local/hadoop/share/hadoop/common/lib/jsp-api-2.1.jar:/usr/local/hadoop/share/hadoop/common/lib/xmlenc-0.52.jar:/usr/local/hadoop/share/hadoop/common/lib/jaxb-api-2.2.2.jar:/usr/local/hadoop/share/hadoop/common/lib/jersey-core-1.9.jar:/usr/local/hadoop/share/hadoop/common/lib/activation-1.1.jar:/usr/local/hadoop/share/hadoop/common/lib/junit-4.11.jar:/usr/local/hadoop/share/hadoop/common/lib/jets3t-0.9.0.jar:/usr/local/hadoop/share/hadoop/common/lib/protobuf-java-2.5.0.jar:/usr/local/hadoop/share/hadoop/common/lib/jetty-6.1.26.jar:/usr/local/hadoop/share/hadoop/common/lib/httpclient-4.5.2.jar:/usr/local/hadoop/share/hadoop/common/lib/jettison-1.1.jar:/usr/local/hadoop/share/hadoop/common/lib/jcip-annotations-1.0.jar:/usr/local/hadoop/share/hadoop/common/lib/log4j-1.2.17.jar:/usr/local/hadoop/share/hadoop/common/lib/commons-beanutils-core-1.8.0.jar:/usr/local/hadoop/share/hadoop/common/lib/jackson-core-asl-1.9.13.jar:/usr/local/hadoop/share/hadoop/common/lib/commons-logging-1.1.3.jar:/usr/local/hadoop/share/hadoop/common/lib/htrace-core4-4.0.1-incubating.jar:/usr/local/hadoop/share/hadoop/common/lib/commons-codec-1.4.jar:/usr/local/hadoop/share/hadoop/common/lib/commons-beanutils-1.7.0.jar:/usr/local/hadoop/share/hadoop/common/lib/jsch-0.1.51.jar:/usr/local/hadoop/share/hadoop/common/lib/json-smart-1.1.1.jar:/usr/local/hadoop/share/hadoop/common/lib/curator-client-2.7.1.jar:/usr/local/hadoop/share/hadoop/common/lib/stax-api-1.0-2.jar:/usr/local/hadoop/share/hadoop/common/lib/slf4j-api-1.7.10.jar:/usr/local/hadoop/share/hadoop/common/lib/hamcrest-core-1.3.jar:/usr/local/hadoop/share/hadoop/common/lib/jetty-sslengine-6.1.26.jar:/usr/local/hadoop/share/hadoop/common/lib/mockito-all-1.8.5.jar:/usr/local/hadoop/share/hadoop/common/lib/commons-configuration-1.6.jar:/usr/local/hadoop/share/hadoop/common/lib/nimbus-jose-jwt-3.9.jar:/usr/local/hadoop/share/hadoop/common/lib/jersey-server-1.9.jar:/usr/local/hadoop/share/hadoop/common/lib/java-xmlbuilder-0.4.jar:/usr/local/hadoop/share/hadoop/common/lib/apacheds-i18n-2.0.0-M15.jar:/usr/local/hadoop/share/hadoop/common/lib/commons-io-2.4.jar:/usr/local/hadoop/share/hadoop/common/lib/commons-lang-2.6.jar:/usr/local/hadoop/share/hadoop/common/lib/paranamer-2.3.jar:/usr/local/hadoop/share/hadoop/common/lib/jetty-util-6.1.26.jar:/usr/local/hadoop/share/hadoop/common/hadoop-nfs-2.8.1.jar:/usr/local/hadoop/share/hadoop/common/hadoop-common-2.8.1.jar:/usr/local/hadoop/share/hadoop/common/hadoop-common-2.8.1-tests.jar:/usr/local/hadoop/share/hadoop/hdfs:/usr/local/hadoop/share/hadoop/hdfs/lib/guava-11.0.2.jar:/usr/local/hadoop/share/hadoop/hdfs/lib/okio-1.4.0.jar:/usr/local/hadoop/share/hadoop/hdfs/lib/netty-all-4.0.23.Final.jar:/usr/local/hadoop/share/hadoop/hdfs/lib/okhttp-2.4.0.jar:/usr/local/hadoop/share/hadoop/hdfs/lib/commons-cli-1.2.jar:/usr/local/hadoop/share/hadoop/hdfs/lib/hadoop-hdfs-client-2.8.1.jar:/usr/local/hadoop/share/hadoop/hdfs/lib/jackson-mapper-asl-1.9.13.jar:/usr/local/hadoop/share/hadoop/hdfs/lib/asm-3.2.jar:/usr/local/hadoop/share/hadoop/hdfs/lib/leveldbjni-all-1.8.jar:/usr/local/hadoop/share/hadoop/hdfs/lib/netty-3.6.2.Final.jar:/usr/local/hadoop/share/hadoop/hdfs/lib/jsr305-3.0.0.jar:/usr/local/hadoop/share/hadoop/hdfs/lib/servlet-api-2.5.jar:/usr/local/hadoop/share/hadoop/hdfs/lib/xmlenc-0.52.jar:/usr/local/hadoop/share/hadoop/hdfs/lib/jersey-core-1.9.jar:/usr/local/hadoop/share/hadoop/hdfs/lib/protobuf-java-2.5.0.jar:/usr/local/hadoop/share/hadoop/hdfs/lib/jetty-6.1.26.jar:/usr/local/hadoop/share/hadoop/hdfs/lib/log4j-1.2.17.jar:/usr/local/hadoop/share/hadoop/hdfs/lib/jackson-core-asl-1.9.13.jar:/usr/local/hadoop/share/hadoop/hdfs/lib/commons-logging-1.1.3.jar:/usr/local/hadoop/share/hadoop/hdfs/lib/htrace-core4-4.0.1-incubating.jar:/usr/local/hadoop/share/hadoop/hdfs/lib/commons-codec-1.4.jar:/usr/local/hadoop/share/hadoop/hdfs/lib/xml-apis-1.3.04.jar:/usr/local/hadoop/share/hadoop/hdfs/lib/xercesImpl-2.9.1.jar:/usr/local/hadoop/share/hadoop/hdfs/lib/jersey-server-1.9.jar:/usr/local/hadoop/share/hadoop/hdfs/lib/commons-io-2.4.jar:/usr/local/hadoop/share/hadoop/hdfs/lib/commons-lang-2.6.jar:/usr/local/hadoop/share/hadoop/hdfs/lib/jetty-util-6.1.26.jar:/usr/local/hadoop/share/hadoop/hdfs/lib/commons-daemon-1.0.13.jar:/usr/local/hadoop/share/hadoop/hdfs/hadoop-hdfs-native-client-2.8.1-tests.jar:/usr/local/hadoop/share/hadoop/hdfs/hadoop-hdfs-client-2.8.1.jar:/usr/local/hadoop/share/hadoop/hdfs/hadoop-hdfs-2.8.1-tests.jar:/usr/local/hadoop/share/hadoop/hdfs/hadoop-hdfs-native-client-2.8.1.jar:/usr/local/hadoop/share/hadoop/hdfs/hadoop-hdfs-2.8.1.jar:/usr/local/hadoop/share/hadoop/hdfs/hadoop-hdfs-nfs-2.8.1.jar:/usr/local/hadoop/share/hadoop/hdfs/hadoop-hdfs-client-2.8.1-tests.jar:/usr/local/hadoop-2.8.1/share/hadoop/yarn/lib/guava-11.0.2.jar:/usr/local/hadoop-2.8.1/share/hadoop/yarn/lib/aopalliance-1.0.jar:/usr/local/hadoop-2.8.1/share/hadoop/yarn/lib/curator-test-2.7.1.jar:/usr/local/hadoop-2.8.1/share/hadoop/yarn/lib/jackson-jaxrs-1.9.13.jar:/usr/local/hadoop-2.8.1/share/hadoop/yarn/lib/jersey-client-1.9.jar:/usr/local/hadoop-2.8.1/share/hadoop/yarn/lib/zookeeper-3.4.6-tests.jar:/usr/local/hadoop-2.8.1/share/hadoop/yarn/lib/commons-cli-1.2.jar:/usr/local/hadoop-2.8.1/share/hadoop/yarn/lib/jackson-mapper-asl-1.9.13.jar:/usr/local/hadoop-2.8.1/share/hadoop/yarn/lib/commons-compress-1.4.1.jar:/usr/local/hadoop-2.8.1/share/hadoop/yarn/lib/jaxb-impl-2.2.3-1.jar:/usr/local/hadoop-2.8.1/share/hadoop/yarn/lib/asm-3.2.jar:/usr/local/hadoop-2.8.1/share/hadoop/yarn/lib/jersey-json-1.9.jar:/usr/local/hadoop-2.8.1/share/hadoop/yarn/lib/leveldbjni-all-1.8.jar:/usr/local/hadoop-2.8.1/share/hadoop/yarn/lib/netty-3.6.2.Final.jar:/usr/local/hadoop-2.8.1/share/hadoop/yarn/lib/jackson-xc-1.9.13.jar:/usr/local/hadoop-2.8.1/share/hadoop/yarn/lib/jsr305-3.0.0.jar:/usr/local/hadoop-2.8.1/share/hadoop/yarn/lib/servlet-api-2.5.jar:/usr/local/hadoop-2.8.1/share/hadoop/yarn/lib/xz-1.0.jar:/usr/local/hadoop-2.8.1/share/hadoop/yarn/lib/zookeeper-3.4.6.jar:/usr/local/hadoop-2.8.1/share/hadoop/yarn/lib/commons-collections-3.2.2.jar:/usr/local/hadoop-2.8.1/share/hadoop/yarn/lib/jaxb-api-2.2.2.jar:/usr/local/hadoop-2.8.1/share/hadoop/yarn/lib/jersey-core-1.9.jar:/usr/local/hadoop-2.8.1/share/hadoop/yarn/lib/activation-1.1.jar:/usr/local/hadoop-2.8.1/share/hadoop/yarn/lib/guice-servlet-3.0.jar:/usr/local/hadoop-2.8.1/share/hadoop/yarn/lib/protobuf-java-2.5.0.jar:/usr/local/hadoop-2.8.1/share/hadoop/yarn/lib/jetty-6.1.26.jar:/usr/local/hadoop-2.8.1/share/hadoop/yarn/lib/jettison-1.1.jar:/usr/local/hadoop-2.8.1/share/hadoop/yarn/lib/commons-math-2.2.jar:/usr/local/hadoop-2.8.1/share/hadoop/yarn/lib/log4j-1.2.17.jar:/usr/local/hadoop-2.8.1/share/hadoop/yarn/lib/jackson-core-asl-1.9.13.jar:/usr/local/hadoop-2.8.1/share/hadoop/yarn/lib/commons-logging-1.1.3.jar:/usr/local/hadoop-2.8.1/share/hadoop/yarn/lib/commons-codec-1.4.jar:/usr/local/hadoop-2.8.1/share/hadoop/yarn/lib/javassist-3.18.1-GA.jar:/usr/local/hadoop-2.8.1/share/hadoop/yarn/lib/curator-client-2.7.1.jar:/usr/local/hadoop-2.8.1/share/hadoop/yarn/lib/stax-api-1.0-2.jar:/usr/local/hadoop-2.8.1/share/hadoop/yarn/lib/jersey-guice-1.9.jar:/usr/local/hadoop-2.8.1/share/hadoop/yarn/lib/fst-2.24.jar:/usr/local/hadoop-2.8.1/share/hadoop/yarn/lib/javax.inject-1.jar:/usr/local/hadoop-2.8.1/share/hadoop/yarn/lib/guice-3.0.jar:/usr/local/hadoop-2.8.1/share/hadoop/yarn/lib/jersey-server-1.9.jar:/usr/local/hadoop-2.8.1/share/hadoop/yarn/lib/commons-io-2.4.jar:/usr/local/hadoop-2.8.1/share/hadoop/yarn/lib/commons-lang-2.6.jar:/usr/local/hadoop-2.8.1/share/hadoop/yarn/lib/objenesis-2.1.jar:/usr/local/hadoop-2.8.1/share/hadoop/yarn/lib/jetty-util-6.1.26.jar:/usr/local/hadoop-2.8.1/share/hadoop/yarn/hadoop-yarn-applications-distributedshell-2.8.1.jar:/usr/local/hadoop-2.8.1/share/hadoop/yarn/hadoop-yarn-api-2.8.1.jar:/usr/local/hadoop-2.8.1/share/hadoop/yarn/hadoop-yarn-server-web-proxy-2.8.1.jar:/usr/local/hadoop-2.8.1/share/hadoop/yarn/hadoop-yarn-server-timeline-pluginstorage-2.8.1.jar:/usr/local/hadoop-2.8.1/share/hadoop/yarn/hadoop-yarn-server-tests-2.8.1.jar:/usr/local/hadoop-2.8.1/share/hadoop/yarn/hadoop-yarn-server-resourcemanager-2.8.1.jar:/usr/local/hadoop-2.8.1/share/hadoop/yarn/hadoop-yarn-common-2.8.1.jar:/usr/local/hadoop-2.8.1/share/hadoop/yarn/hadoop-yarn-server-common-2.8.1.jar:/usr/local/hadoop-2.8.1/share/hadoop/yarn/hadoop-yarn-applications-unmanaged-am-launcher-2.8.1.jar:/usr/local/hadoop-2.8.1/share/hadoop/yarn/hadoop-yarn-registry-2.8.1.jar:/usr/local/hadoop-2.8.1/share/hadoop/yarn/hadoop-yarn-server-nodemanager-2.8.1.jar:/usr/local/hadoop-2.8.1/share/hadoop/yarn/hadoop-yarn-server-applicationhistoryservice-2.8.1.jar:/usr/local/hadoop-2.8.1/share/hadoop/yarn/hadoop-yarn-client-2.8.1.jar:/usr/local/hadoop-2.8.1/share/hadoop/yarn/hadoop-yarn-server-sharedcachemanager-2.8.1.jar:/usr/local/hadoop/share/hadoop/mapreduce/lib/aopalliance-1.0.jar:/usr/local/hadoop/share/hadoop/mapreduce/lib/avro-1.7.4.jar:/usr/local/hadoop/share/hadoop/mapreduce/lib/jackson-mapper-asl-1.9.13.jar:/usr/local/hadoop/share/hadoop/mapreduce/lib/commons-compress-1.4.1.jar:/usr/local/hadoop/share/hadoop/mapreduce/lib/hadoop-annotations-2.8.1.jar:/usr/local/hadoop/share/hadoop/mapreduce/lib/asm-3.2.jar:/usr/local/hadoop/share/hadoop/mapreduce/lib/leveldbjni-all-1.8.jar:/usr/local/hadoop/share/hadoop/mapreduce/lib/netty-3.6.2.Final.jar:/usr/local/hadoop/share/hadoop/mapreduce/lib/xz-1.0.jar:/usr/local/hadoop/share/hadoop/mapreduce/lib/snappy-java-1.0.4.1.jar:/usr/local/hadoop/share/hadoop/mapreduce/lib/jersey-core-1.9.jar:/usr/local/hadoop/share/hadoop/mapreduce/lib/guice-servlet-3.0.jar:/usr/local/hadoop/share/hadoop/mapreduce/lib/junit-4.11.jar:/usr/local/hadoop/share/hadoop/mapreduce/lib/protobuf-java-2.5.0.jar:/usr/local/hadoop/share/hadoop/mapreduce/lib/log4j-1.2.17.jar:/usr/local/hadoop/share/hadoop/mapreduce/lib/jackson-core-asl-1.9.13.jar:/usr/local/hadoop/share/hadoop/mapreduce/lib/jersey-guice-1.9.jar:/usr/local/hadoop/share/hadoop/mapreduce/lib/javax.inject-1.jar:/usr/local/hadoop/share/hadoop/mapreduce/lib/hamcrest-core-1.3.jar:/usr/local/hadoop/share/hadoop/mapreduce/lib/guice-3.0.jar:/usr/local/hadoop/share/hadoop/mapreduce/lib/jersey-server-1.9.jar:/usr/local/hadoop/share/hadoop/mapreduce/lib/commons-io-2.4.jar:/usr/local/hadoop/share/hadoop/mapreduce/lib/paranamer-2.3.jar:/usr/local/hadoop/share/hadoop/mapreduce/hadoop-mapreduce-client-shuffle-2.8.1.jar:/usr/local/hadoop/share/hadoop/mapreduce/hadoop-mapreduce-client-jobclient-2.8.1-tests.jar:/usr/local/hadoop/share/hadoop/mapreduce/hadoop-mapreduce-client-app-2.8.1.jar:/usr/local/hadoop/share/hadoop/mapreduce/hadoop-mapreduce-examples-2.8.1.jar:/usr/local/hadoop/share/hadoop/mapreduce/hadoop-mapreduce-client-hs-2.8.1.jar:/usr/local/hadoop/share/hadoop/mapreduce/hadoop-mapreduce-client-hs-plugins-2.8.1.jar:/usr/local/hadoop/share/hadoop/mapreduce/hadoop-mapreduce-client-common-2.8.1.jar:/usr/local/hadoop/share/hadoop/mapreduce/hadoop-mapreduce-client-jobclient-2.8.1.jar:/usr/local/hadoop/share/hadoop/mapreduce/hadoop-mapreduce-client-core-2.8.1.jar:/contrib/capacity-scheduler/*.jar\n",
      "STARTUP_MSG:   build = https://git-wip-us.apache.org/repos/asf/hadoop.git -r 20fe5304904fc2f5a18053c389e43cd26f7a70fe; compiled by 'vinodkv' on 2017-06-02T06:14Z\n",
      "STARTUP_MSG:   java = 1.8.0_144\n",
      "************************************************************/\n",
      "18/04/13 18:15:52 INFO namenode.NameNode: registered UNIX signal handlers for [TERM, HUP, INT]\n",
      "18/04/13 18:15:52 INFO namenode.NameNode: createNameNode [-format]\n",
      "18/04/13 18:15:53 WARN util.NativeCodeLoader: Unable to load native-hadoop library for your platform... using builtin-java classes where applicable\n",
      "18/04/13 18:15:53 INFO namenode.FSEditLog: Edit logging is async:false\n",
      "18/04/13 18:15:53 INFO namenode.FSNamesystem: KeyProvider: null\n",
      "18/04/13 18:15:53 INFO namenode.FSNamesystem: fsLock is fair: true\n",
      "18/04/13 18:15:53 INFO namenode.FSNamesystem: Detailed lock hold time metrics enabled: false\n",
      "18/04/13 18:15:53 INFO blockmanagement.DatanodeManager: dfs.block.invalidate.limit=1000\n",
      "18/04/13 18:15:53 INFO blockmanagement.DatanodeManager: dfs.namenode.datanode.registration.ip-hostname-check=true\n",
      "18/04/13 18:15:53 INFO blockmanagement.BlockManager: dfs.namenode.startup.delay.block.deletion.sec is set to 000:00:00:00.000\n",
      "18/04/13 18:15:53 INFO blockmanagement.BlockManager: The block deletion will start around 2018 Apr 13 18:15:53\n",
      "18/04/13 18:15:53 INFO util.GSet: Computing capacity for map BlocksMap\n",
      "18/04/13 18:15:53 INFO util.GSet: VM type       = 64-bit\n",
      "18/04/13 18:15:53 INFO util.GSet: 2.0% max memory 889 MB = 17.8 MB\n",
      "18/04/13 18:15:53 INFO util.GSet: capacity      = 2^21 = 2097152 entries\n",
      "18/04/13 18:15:53 INFO blockmanagement.BlockManager: dfs.block.access.token.enable=false\n",
      "18/04/13 18:15:53 INFO blockmanagement.BlockManager: defaultReplication         = 3\n",
      "18/04/13 18:15:53 INFO blockmanagement.BlockManager: maxReplication             = 512\n",
      "18/04/13 18:15:53 INFO blockmanagement.BlockManager: minReplication             = 1\n",
      "18/04/13 18:15:53 INFO blockmanagement.BlockManager: maxReplicationStreams      = 2\n",
      "18/04/13 18:15:53 INFO blockmanagement.BlockManager: replicationRecheckInterval = 3000\n",
      "18/04/13 18:15:53 INFO blockmanagement.BlockManager: encryptDataTransfer        = false\n",
      "18/04/13 18:15:53 INFO blockmanagement.BlockManager: maxNumBlocksToLog          = 1000\n",
      "18/04/13 18:15:53 INFO namenode.FSNamesystem: fsOwner             = ethan (auth:SIMPLE)\n",
      "18/04/13 18:15:53 INFO namenode.FSNamesystem: supergroup          = supergroup\n",
      "18/04/13 18:15:53 INFO namenode.FSNamesystem: isPermissionEnabled = true\n",
      "18/04/13 18:15:53 INFO namenode.FSNamesystem: HA Enabled: false\n",
      "18/04/13 18:15:53 INFO namenode.FSNamesystem: Append Enabled: true\n",
      "18/04/13 18:15:54 INFO util.GSet: Computing capacity for map INodeMap\n",
      "18/04/13 18:15:54 INFO util.GSet: VM type       = 64-bit\n",
      "18/04/13 18:15:54 INFO util.GSet: 1.0% max memory 889 MB = 8.9 MB\n",
      "18/04/13 18:15:54 INFO util.GSet: capacity      = 2^20 = 1048576 entries\n",
      "18/04/13 18:15:54 INFO namenode.FSDirectory: ACLs enabled? false\n",
      "18/04/13 18:15:54 INFO namenode.FSDirectory: XAttrs enabled? true\n",
      "18/04/13 18:15:54 INFO namenode.NameNode: Caching file names occurring more than 10 times\n",
      "18/04/13 18:15:54 INFO util.GSet: Computing capacity for map cachedBlocks\n",
      "18/04/13 18:15:54 INFO util.GSet: VM type       = 64-bit\n",
      "18/04/13 18:15:54 INFO util.GSet: 0.25% max memory 889 MB = 2.2 MB\n",
      "18/04/13 18:15:54 INFO util.GSet: capacity      = 2^18 = 262144 entries\n",
      "18/04/13 18:15:54 INFO namenode.FSNamesystem: dfs.namenode.safemode.threshold-pct = 0.9990000128746033\n",
      "18/04/13 18:15:54 INFO namenode.FSNamesystem: dfs.namenode.safemode.min.datanodes = 0\n",
      "18/04/13 18:15:54 INFO namenode.FSNamesystem: dfs.namenode.safemode.extension     = 30000\n",
      "18/04/13 18:15:54 INFO metrics.TopMetrics: NNTop conf: dfs.namenode.top.window.num.buckets = 10\n",
      "18/04/13 18:15:54 INFO metrics.TopMetrics: NNTop conf: dfs.namenode.top.num.users = 10\n",
      "18/04/13 18:15:54 INFO metrics.TopMetrics: NNTop conf: dfs.namenode.top.windows.minutes = 1,5,25\n",
      "18/04/13 18:15:54 INFO namenode.FSNamesystem: Retry cache on namenode is enabled\n",
      "18/04/13 18:15:54 INFO namenode.FSNamesystem: Retry cache will use 0.03 of total heap and retry cache entry expiry time is 600000 millis\n",
      "18/04/13 18:15:54 INFO util.GSet: Computing capacity for map NameNodeRetryCache\n",
      "18/04/13 18:15:54 INFO util.GSet: VM type       = 64-bit\n",
      "18/04/13 18:15:54 INFO util.GSet: 0.029999999329447746% max memory 889 MB = 273.1 KB\n",
      "18/04/13 18:15:54 INFO util.GSet: capacity      = 2^15 = 32768 entries\n",
      "18/04/13 18:15:54 INFO namenode.FSImage: Allocated new BlockPoolId: BP-1051355898-127.0.1.1-1523657754876\n",
      "18/04/13 18:15:54 INFO common.Storage: Storage directory /tmp/hadoop-ethan/dfs/name has been successfully formatted.\n",
      "18/04/13 18:15:55 INFO namenode.FSImageFormatProtobuf: Saving image file /tmp/hadoop-ethan/dfs/name/current/fsimage.ckpt_0000000000000000000 using no compression\n",
      "18/04/13 18:15:55 INFO namenode.FSImageFormatProtobuf: Image file /tmp/hadoop-ethan/dfs/name/current/fsimage.ckpt_0000000000000000000 of size 322 bytes saved in 0 seconds.\n",
      "18/04/13 18:15:55 INFO namenode.NNStorageRetentionManager: Going to retain 1 images with txid >= 0\n",
      "18/04/13 18:15:55 INFO util.ExitUtil: Exiting with status 0\n",
      "18/04/13 18:15:55 INFO namenode.NameNode: SHUTDOWN_MSG: \n",
      "/************************************************************\n",
      "SHUTDOWN_MSG: Shutting down NameNode at ethan-HP-Spectre-x360-Convertible-13/127.0.1.1\n",
      "************************************************************/\n"
     ]
    }
   ],
   "source": [
    "%%bash\n",
    "hdfs namenode -format"
   ]
  },
  {
   "cell_type": "code",
   "execution_count": 4,
   "metadata": {},
   "outputs": [
    {
     "name": "stdout",
     "output_type": "stream",
     "text": [
      "3872 SecondaryNameNode\n",
      "3684 DataNode\n",
      "4043 ResourceManager\n",
      "4540 Jps\n",
      "4173 NodeManager\n"
     ]
    }
   ],
   "source": [
    "!jps"
   ]
  },
  {
   "cell_type": "code",
   "execution_count": 5,
   "metadata": {},
   "outputs": [
    {
     "name": "stdout",
     "output_type": "stream",
     "text": [
      "This script is Deprecated. Instead use stop-dfs.sh and stop-yarn.sh\n",
      "Stopping namenodes on [localhost]\n",
      "localhost: no namenode to stop\n",
      "localhost: stopping datanode\n",
      "Stopping secondary namenodes [0.0.0.0]\n",
      "0.0.0.0: stopping secondarynamenode\n",
      "stopping yarn daemons\n",
      "stopping resourcemanager\n",
      "localhost: stopping nodemanager\n",
      "localhost: nodemanager did not stop gracefully after 5 seconds: killing with kill -9\n",
      "no proxyserver to stop\n"
     ]
    },
    {
     "name": "stderr",
     "output_type": "stream",
     "text": [
      "18/04/13 18:16:11 WARN util.NativeCodeLoader: Unable to load native-hadoop library for your platform... using builtin-java classes where applicable\n",
      "18/04/13 18:16:25 WARN util.NativeCodeLoader: Unable to load native-hadoop library for your platform... using builtin-java classes where applicable\n"
     ]
    }
   ],
   "source": [
    "%%bash\n",
    "stop-all.sh"
   ]
  },
  {
   "cell_type": "code",
   "execution_count": 6,
   "metadata": {},
   "outputs": [
    {
     "name": "stdout",
     "output_type": "stream",
     "text": [
      "This script is Deprecated. Instead use start-dfs.sh and start-yarn.sh\n",
      "Starting namenodes on [localhost]\n",
      "localhost: starting namenode, logging to /usr/local/hadoop-2.8.1/logs/hadoop-ethan-namenode-ethan-HP-Spectre-x360-Convertible-13.out\n",
      "localhost: starting datanode, logging to /usr/local/hadoop-2.8.1/logs/hadoop-ethan-datanode-ethan-HP-Spectre-x360-Convertible-13.out\n",
      "Starting secondary namenodes [0.0.0.0]\n",
      "0.0.0.0: starting secondarynamenode, logging to /usr/local/hadoop-2.8.1/logs/hadoop-ethan-secondarynamenode-ethan-HP-Spectre-x360-Convertible-13.out\n",
      "starting yarn daemons\n",
      "starting resourcemanager, logging to /usr/local/hadoop-2.8.1/logs/yarn-ethan-resourcemanager-ethan-HP-Spectre-x360-Convertible-13.out\n",
      "localhost: starting nodemanager, logging to /usr/local/hadoop-2.8.1/logs/yarn-ethan-nodemanager-ethan-HP-Spectre-x360-Convertible-13.out\n"
     ]
    },
    {
     "name": "stderr",
     "output_type": "stream",
     "text": [
      "18/04/13 18:16:41 WARN util.NativeCodeLoader: Unable to load native-hadoop library for your platform... using builtin-java classes where applicable\n",
      "18/04/13 18:16:57 WARN util.NativeCodeLoader: Unable to load native-hadoop library for your platform... using builtin-java classes where applicable\n"
     ]
    }
   ],
   "source": [
    "%%bash\n",
    "start-all.sh"
   ]
  },
  {
   "cell_type": "code",
   "execution_count": 7,
   "metadata": {},
   "outputs": [
    {
     "name": "stdout",
     "output_type": "stream",
     "text": [
      "5795 ResourceManager\n",
      "5427 DataNode\n",
      "5925 NodeManager\n",
      "5269 NameNode\n",
      "5624 SecondaryNameNode\n",
      "6141 Jps\n"
     ]
    }
   ],
   "source": [
    "!jps"
   ]
  },
  {
   "cell_type": "code",
   "execution_count": 8,
   "metadata": {
    "collapsed": true
   },
   "outputs": [],
   "source": [
    "from pyspark.sql import SparkSession\n",
    "spark = SparkSession \\\n",
    "        .builder \\\n",
    "        .master(\"yarn\") \\\n",
    "        .appName(\"tests\") \\\n",
    "        .config(\"spark.executor.instances\", \"2\") \\\n",
    "        .config(\"spark.executor.memory\",\"1g\") \\\n",
    "        .config(\"spark.driver.memory\",\"2g\") \\\n",
    "        .config(\"spark.executor.cores\",'2') \\\n",
    "        .config(\"spark.scheduler.mode\",\"FIFO\") \\\n",
    "        .getOrCreate()\n",
    "\n",
    "sc = spark.sparkContext"
   ]
  },
  {
   "cell_type": "code",
   "execution_count": 9,
   "metadata": {
    "collapsed": true
   },
   "outputs": [],
   "source": [
    "from pyspark.ml.regression import LinearRegression\n",
    "from pyspark.ml.feature import VectorAssembler"
   ]
  },
  {
   "cell_type": "code",
   "execution_count": 10,
   "metadata": {
    "collapsed": true
   },
   "outputs": [],
   "source": [
    "%matplotlib inline\n",
    "import matplotlib.pyplot as plt"
   ]
  },
  {
   "cell_type": "code",
   "execution_count": 11,
   "metadata": {},
   "outputs": [
    {
     "name": "stderr",
     "output_type": "stream",
     "text": [
      "18/04/13 18:18:12 WARN util.NativeCodeLoader: Unable to load native-hadoop library for your platform... using builtin-java classes where applicable\n"
     ]
    }
   ],
   "source": [
    "%%bash\n",
    "hadoop fs -put train.csv"
   ]
  },
  {
   "cell_type": "code",
   "execution_count": 12,
   "metadata": {
    "collapsed": true
   },
   "outputs": [],
   "source": [
    "housingData = spark.read.csv(\"train.csv\", header=True, inferSchema=True)"
   ]
  },
  {
   "cell_type": "code",
   "execution_count": 13,
   "metadata": {
    "collapsed": true
   },
   "outputs": [],
   "source": [
    "assembler = VectorAssembler(\n",
    "  inputCols=[\"OverallQual\",\"OverallCond\",\"YearBuilt\"], outputCol=\"Quality\"\n",
    ")\n",
    "\n",
    "assembled = assembler.transform(housingData)"
   ]
  },
  {
   "cell_type": "code",
   "execution_count": 30,
   "metadata": {
    "collapsed": true
   },
   "outputs": [],
   "source": [
    "SqErrMaxIter1=[]\n",
    "for i in range(0,16,2):\n",
    "    s1=0\n",
    "    s2=0\n",
    "    lr = LinearRegression(featuresCol='Quality',labelCol='SalePrice',maxIter=i, regParam=0.2, elasticNetParam=0.5)\n",
    "    for x in range(0,10):\n",
    "        train, test = assembled.randomSplit([0.8,0.2])\n",
    "        lrModel = lr.fit(train)\n",
    "        predictions = lrModel.transform(test)\n",
    "        trainingSummary=lrModel.summary\n",
    "        s1=s1+trainingSummary.rootMeanSquaredError\n",
    "    SqErrMaxIter1.append(s1/10)\n",
    "    for x in range(0,10):\n",
    "        train, test = assembled.randomSplit([0.8,0.2])\n",
    "        lrModel = lr.fit(train)\n",
    "        predictions = lrModel.transform(test)\n",
    "        trainingSummary=lrModel.summary\n",
    "        s2=s2+trainingSummary.rootMeanSquaredError\n",
    "    SqErrMaxIter1.append(s2/10)"
   ]
  },
  {
   "cell_type": "code",
   "execution_count": 35,
   "metadata": {
    "collapsed": true
   },
   "outputs": [],
   "source": [
    "SqErrMaxIter2=[SqErrMaxIter1[x] for x in range(0,16) if x%2==1]"
   ]
  },
  {
   "cell_type": "code",
   "execution_count": 37,
   "metadata": {
    "collapsed": true
   },
   "outputs": [],
   "source": [
    "SqErrMaxIter=[SqErrMaxIter1[x] for x in range(0,16) if x%2==0]"
   ]
  },
  {
   "cell_type": "code",
   "execution_count": 38,
   "metadata": {},
   "outputs": [
    {
     "name": "stdout",
     "output_type": "stream",
     "text": [
      "[78789.99817076027, 56873.70147854802, 48863.60279587934, 48084.08333740989, 47810.95420465907, 48377.47272706266, 47757.419170542016, 48226.73320192195] [79632.89558933134, 56072.796151059665, 48605.66702883116, 48150.06280362014, 48081.78944924775, 48166.49003711101, 48107.18015578197, 48189.732855302296]\n"
     ]
    }
   ],
   "source": [
    "print(SqErrMaxIter,SqErrMaxIter2)"
   ]
  },
  {
   "cell_type": "markdown",
   "metadata": {},
   "source": [
    "The Graph below shows the relationship between the Square Error and the Max Iterators parameter while keeping all other parameters constant. There are two colored line graphs, both show the same relatonship in two different samplesof data. The use of two graphs is meant to show how random the relationship is. In this example, there is a lilely relationship because both samples have very similar data and shape."
   ]
  },
  {
   "cell_type": "code",
   "execution_count": 39,
   "metadata": {},
   "outputs": [
    {
     "data": {
      "image/png": "[encoded data removed]",
      "text/plain": [
       "<matplotlib.figure.Figure at 0x7f6e70562a90>"
      ]
     },
     "metadata": {},
     "output_type": "display_data"
    }
   ],
   "source": [
    "plt.title(\"Square Error vs Max Iterator\")\n",
    "plt.xlabel(\"Max Iterator\")\n",
    "plt.ylabel(\"Square Error\")\n",
    "plt.plot(range(0,16,2),SqErrMaxIter, 'k-o',range(0,16,2),SqErrMaxIter2,'r-o'); "
   ]
  },
  {
   "cell_type": "code",
   "execution_count": 40,
   "metadata": {
    "collapsed": true
   },
   "outputs": [],
   "source": [
    "SqErrRegParam1=[]\n",
    "SqErrRegParam2=[]\n",
    "\n",
    "for i in range(0,20):\n",
    "    s1=0\n",
    "    s2=0\n",
    "    a=i/20\n",
    "    lr = LinearRegression(featuresCol='Quality',labelCol='SalePrice',maxIter=16,regParam=a, elasticNetParam=0.5)\n",
    "    for x in range(0,10):\n",
    "        train, test = assembled.randomSplit([0.8,0.2])\n",
    "        lrModel = lr.fit(train)\n",
    "        predictions = lrModel.transform(test)\n",
    "        trainingSummary=lrModel.summary\n",
    "        s1=s1+trainingSummary.rootMeanSquaredError\n",
    "    SqErrRegParam1.append(s1/10)\n",
    "    for x in range(0,10):\n",
    "        train, test = assembled.randomSplit([0.8,0.2])\n",
    "        lrModel = lr.fit(train)\n",
    "        predictions = lrModel.transform(test)\n",
    "        trainingSummary=lrModel.summary\n",
    "        s2=s2+trainingSummary.rootMeanSquaredError\n",
    "    SqErrRegParam2.append(s2/10)"
   ]
  },
  {
   "cell_type": "code",
   "execution_count": 41,
   "metadata": {},
   "outputs": [
    {
     "name": "stdout",
     "output_type": "stream",
     "text": [
      "[47633.57662543058, 48157.91876861176, 47998.69040423218, 48067.4662148916, 47515.07740529246, 47289.143425525835, 47780.04356649396, 47745.86994833075, 47434.59113469898, 48499.60760283732, 47456.6010615226, 47996.412818812176, 47293.865943649835, 48569.33124953349, 47859.24606657414, 48089.878623203316, 48913.04291228702, 48007.32051796645, 48287.25810650883, 48621.39170439144] [48608.73173557925, 47716.09750781384, 48119.274574881114, 48018.18017429513, 47455.28132024883, 48217.84867384415, 47928.35428179505, 47932.224795860995, 48053.048421621024, 47908.47327121857, 47595.51261744787, 47832.48195412619, 47864.136667440864, 48376.7801722759, 48398.76375525342, 47837.35045087658, 48208.18633147057, 48647.60692546492, 47464.803317226084, 47446.65131568168]\n"
     ]
    }
   ],
   "source": [
    "print(SqErrRegParam1,SqErrRegParam2)"
   ]
  },
  {
   "cell_type": "markdown",
   "metadata": {},
   "source": [
    "The Graph below shows the relationship between the Square Error and the Reg Parameter while keeping all other parameters constant. There are two colored line graphs, both show the same relatonship in two different samples of data. The use of two graphs is meant to show how random the relationship is. In this example, it is likely that this parameter doesn't matter as much since the two samples are not very similar and seem a bit random."
   ]
  },
  {
   "cell_type": "code",
   "execution_count": 42,
   "metadata": {},
   "outputs": [
    {
     "data": {
      "image/png": "[encoded data removed]",
      "text/plain": [
       "<matplotlib.figure.Figure at 0x7f6e70562940>"
      ]
     },
     "metadata": {},
     "output_type": "display_data"
    }
   ],
   "source": [
    "plt.title(\"Square Error vs Reg Param\")\n",
    "plt.xlabel(\"Reg Param\")\n",
    "plt.ylabel(\"Square Error\")\n",
    "plt.plot([x/20 for x in range(0,20)],SqErrRegParam1, 'k-o',[x/20 for x in range(0,20)],SqErrRegParam2, 'r-o'); "
   ]
  },
  {
   "cell_type": "code",
   "execution_count": 43,
   "metadata": {
    "collapsed": true
   },
   "outputs": [],
   "source": [
    "SqErrElasticNetParam1=[]\n",
    "SqErrElasticNetParam2=[]\n",
    "for i in range(0,20):\n",
    "    s1=0\n",
    "    s2=0\n",
    "    a=i/20\n",
    "    lr = LinearRegression(featuresCol='Quality',labelCol='SalePrice',maxIter=16,regParam=.2, elasticNetParam=a)\n",
    "    for x in range(0,10):\n",
    "        train, test = assembled.randomSplit([0.8,0.2])\n",
    "        lrModel = lr.fit(train)\n",
    "        predictions = lrModel.transform(test)\n",
    "        trainingSummary=lrModel.summary\n",
    "        s1=s1+trainingSummary.rootMeanSquaredError\n",
    "    SqErrElasticNetParam1.append(s1/10)\n",
    "    for x in range(0,10):\n",
    "        train, test = assembled.randomSplit([0.8,0.2])\n",
    "        lrModel = lr.fit(train)\n",
    "        predictions = lrModel.transform(test)\n",
    "        trainingSummary=lrModel.summary\n",
    "        s2=s2+trainingSummary.rootMeanSquaredError\n",
    "    SqErrElasticNetParam2.append(s2/10)"
   ]
  },
  {
   "cell_type": "code",
   "execution_count": 44,
   "metadata": {},
   "outputs": [
    {
     "name": "stdout",
     "output_type": "stream",
     "text": [
      "[48303.686417606004, 48471.32501772138, 47641.90591658374, 48121.396757597264, 47672.17097780956, 47543.62423288093, 47837.60215032934, 48125.22933425121, 48273.21612198469, 47369.29772699561, 48441.795255441, 48392.70029212663, 47873.48340947232, 48385.41175724835, 48242.42970697004, 48353.55963471706, 47766.28605063847, 47948.87573180553, 48214.509292369265, 47966.9943438238] [48066.57748760776, 48664.33118511317, 48191.23592673127, 48030.25916504597, 47960.27713197658, 48130.87354007565, 47977.83417203109, 47709.736827478584, 48363.37063006475, 47897.7014464971, 48332.655556076716, 48143.41489391382, 47844.21751752622, 48513.92896529021, 47694.80019377032, 47514.16583799226, 48051.27782136945, 48247.570599369894, 48071.644857284366, 47509.99046431682]\n"
     ]
    }
   ],
   "source": [
    "print(SqErrElasticNetParam1,SqErrElasticNetParam2)"
   ]
  },
  {
   "cell_type": "markdown",
   "metadata": {},
   "source": [
    "The Graph below shows the relationship between the Square Error and the Elastic Net Parameter while keeping all other parameters constant. There are two colored line graphs, both show the same relatonship in two different samples of data. The use of two graphs is meant to show how random the relationship is. In this example, it is likely that this parameter doesn't matter as much since the two samples are not very similar and seem a bit random."
   ]
  },
  {
   "cell_type": "code",
   "execution_count": 45,
   "metadata": {},
   "outputs": [
    {
     "data": {
      "image/png": "[encoded data removed]",
      "text/plain": [
       "<matplotlib.figure.Figure at 0x7f6e78023438>"
      ]
     },
     "metadata": {},
     "output_type": "display_data"
    }
   ],
   "source": [
    "plt.title(\"Square Error vs Elastic Net Param\")\n",
    "plt.xlabel(\"Elastic Net Param\")\n",
    "plt.ylabel(\"Square Error\")\n",
    "plt.plot([x/20 for x in range(0,20)],SqErrElasticNetParam1, 'k-o',[x/20 for x in range(0,20)],SqErrElasticNetParam2, 'r-o'); "
   ]
  },
  {
   "cell_type": "code",
   "execution_count": 14,
   "metadata": {
    "collapsed": true
   },
   "outputs": [],
   "source": [
    "from pyspark.ml import Pipeline\n",
    "from pyspark.ml.regression import DecisionTreeRegressor\n",
    "from pyspark.ml.feature import VectorIndexer\n",
    "from pyspark.ml.evaluation import RegressionEvaluator"
   ]
  },
  {
   "cell_type": "code",
   "execution_count": 62,
   "metadata": {
    "collapsed": true
   },
   "outputs": [],
   "source": [
    "assembler = VectorAssembler(\n",
    "  inputCols=[\"OverallQual\",\"OverallCond\",\"YearBuilt\"], outputCol=\"Quality\"\n",
    ")\n",
    "\n",
    "assembled = assembler.transform(housingData)"
   ]
  },
  {
   "cell_type": "code",
   "execution_count": 65,
   "metadata": {
    "collapsed": true
   },
   "outputs": [],
   "source": [
    "train, test = assembled.randomSplit([0.8,0.2])\n",
    "dt = DecisionTreeRegressor(featuresCol=\"Quality\",)"
   ]
  },
  {
   "cell_type": "code",
   "execution_count": 73,
   "metadata": {},
   "outputs": [
    {
     "data": {
      "text/plain": [
       "1189"
      ]
     },
     "execution_count": 73,
     "metadata": {},
     "output_type": "execute_result"
    }
   ],
   "source": [
    "train.count()"
   ]
  },
  {
   "cell_type": "code",
   "execution_count": 68,
   "metadata": {},
   "outputs": [
    {
     "ename": "TypeError",
     "evalue": "Column is not iterable",
     "output_type": "error",
     "traceback": [
      "\u001b[0;31m---------------------------------------------------------------------------\u001b[0m",
      "\u001b[0;31mTypeError\u001b[0m                                 Traceback (most recent call last)",
      "\u001b[0;32m<ipython-input-68-c8d417ddfee2>\u001b[0m in \u001b[0;36m<module>\u001b[0;34m()\u001b[0m\n\u001b[0;32m----> 1\u001b[0;31m \u001b[0mmodel\u001b[0m \u001b[0;34m=\u001b[0m \u001b[0mdt\u001b[0m\u001b[0;34m.\u001b[0m\u001b[0mfit\u001b[0m\u001b[0;34m(\u001b[0m\u001b[0mtrain\u001b[0m\u001b[0;34m[\u001b[0m\u001b[0;34m'SalePrice'\u001b[0m\u001b[0;34m]\u001b[0m\u001b[0;34m)\u001b[0m\u001b[0;34m\u001b[0m\u001b[0m\n\u001b[0m",
      "\u001b[0;32m/usr/local/spark/python/pyspark/ml/base.py\u001b[0m in \u001b[0;36mfit\u001b[0;34m(self, dataset, params)\u001b[0m\n\u001b[1;32m     62\u001b[0m                 \u001b[0;32mreturn\u001b[0m \u001b[0mself\u001b[0m\u001b[0;34m.\u001b[0m\u001b[0mcopy\u001b[0m\u001b[0;34m(\u001b[0m\u001b[0mparams\u001b[0m\u001b[0;34m)\u001b[0m\u001b[0;34m.\u001b[0m\u001b[0m_fit\u001b[0m\u001b[0;34m(\u001b[0m\u001b[0mdataset\u001b[0m\u001b[0;34m)\u001b[0m\u001b[0;34m\u001b[0m\u001b[0m\n\u001b[1;32m     63\u001b[0m             \u001b[0;32melse\u001b[0m\u001b[0;34m:\u001b[0m\u001b[0;34m\u001b[0m\u001b[0m\n\u001b[0;32m---> 64\u001b[0;31m                 \u001b[0;32mreturn\u001b[0m \u001b[0mself\u001b[0m\u001b[0;34m.\u001b[0m\u001b[0m_fit\u001b[0m\u001b[0;34m(\u001b[0m\u001b[0mdataset\u001b[0m\u001b[0;34m)\u001b[0m\u001b[0;34m\u001b[0m\u001b[0m\n\u001b[0m\u001b[1;32m     65\u001b[0m         \u001b[0;32melse\u001b[0m\u001b[0;34m:\u001b[0m\u001b[0;34m\u001b[0m\u001b[0m\n\u001b[1;32m     66\u001b[0m             raise ValueError(\"Params must be either a param map or a list/tuple of param maps, \"\n",
      "\u001b[0;32m/usr/local/spark/python/pyspark/ml/wrapper.py\u001b[0m in \u001b[0;36m_fit\u001b[0;34m(self, dataset)\u001b[0m\n\u001b[1;32m    263\u001b[0m \u001b[0;34m\u001b[0m\u001b[0m\n\u001b[1;32m    264\u001b[0m     \u001b[0;32mdef\u001b[0m \u001b[0m_fit\u001b[0m\u001b[0;34m(\u001b[0m\u001b[0mself\u001b[0m\u001b[0;34m,\u001b[0m \u001b[0mdataset\u001b[0m\u001b[0;34m)\u001b[0m\u001b[0;34m:\u001b[0m\u001b[0;34m\u001b[0m\u001b[0m\n\u001b[0;32m--> 265\u001b[0;31m         \u001b[0mjava_model\u001b[0m \u001b[0;34m=\u001b[0m \u001b[0mself\u001b[0m\u001b[0;34m.\u001b[0m\u001b[0m_fit_java\u001b[0m\u001b[0;34m(\u001b[0m\u001b[0mdataset\u001b[0m\u001b[0;34m)\u001b[0m\u001b[0;34m\u001b[0m\u001b[0m\n\u001b[0m\u001b[1;32m    266\u001b[0m         \u001b[0;32mreturn\u001b[0m \u001b[0mself\u001b[0m\u001b[0;34m.\u001b[0m\u001b[0m_create_model\u001b[0m\u001b[0;34m(\u001b[0m\u001b[0mjava_model\u001b[0m\u001b[0;34m)\u001b[0m\u001b[0;34m\u001b[0m\u001b[0m\n\u001b[1;32m    267\u001b[0m \u001b[0;34m\u001b[0m\u001b[0m\n",
      "\u001b[0;32m/usr/local/spark/python/pyspark/ml/wrapper.py\u001b[0m in \u001b[0;36m_fit_java\u001b[0;34m(self, dataset)\u001b[0m\n\u001b[1;32m    260\u001b[0m         \"\"\"\n\u001b[1;32m    261\u001b[0m         \u001b[0mself\u001b[0m\u001b[0;34m.\u001b[0m\u001b[0m_transfer_params_to_java\u001b[0m\u001b[0;34m(\u001b[0m\u001b[0;34m)\u001b[0m\u001b[0;34m\u001b[0m\u001b[0m\n\u001b[0;32m--> 262\u001b[0;31m         \u001b[0;32mreturn\u001b[0m \u001b[0mself\u001b[0m\u001b[0;34m.\u001b[0m\u001b[0m_java_obj\u001b[0m\u001b[0;34m.\u001b[0m\u001b[0mfit\u001b[0m\u001b[0;34m(\u001b[0m\u001b[0mdataset\u001b[0m\u001b[0;34m.\u001b[0m\u001b[0m_jdf\u001b[0m\u001b[0;34m)\u001b[0m\u001b[0;34m\u001b[0m\u001b[0m\n\u001b[0m\u001b[1;32m    263\u001b[0m \u001b[0;34m\u001b[0m\u001b[0m\n\u001b[1;32m    264\u001b[0m     \u001b[0;32mdef\u001b[0m \u001b[0m_fit\u001b[0m\u001b[0;34m(\u001b[0m\u001b[0mself\u001b[0m\u001b[0;34m,\u001b[0m \u001b[0mdataset\u001b[0m\u001b[0;34m)\u001b[0m\u001b[0;34m:\u001b[0m\u001b[0;34m\u001b[0m\u001b[0m\n",
      "\u001b[0;32m/usr/local/spark/python/lib/py4j-0.10.4-src.zip/py4j/java_gateway.py\u001b[0m in \u001b[0;36m__call__\u001b[0;34m(self, *args)\u001b[0m\n\u001b[1;32m   1122\u001b[0m \u001b[0;34m\u001b[0m\u001b[0m\n\u001b[1;32m   1123\u001b[0m     \u001b[0;32mdef\u001b[0m \u001b[0m__call__\u001b[0m\u001b[0;34m(\u001b[0m\u001b[0mself\u001b[0m\u001b[0;34m,\u001b[0m \u001b[0;34m*\u001b[0m\u001b[0margs\u001b[0m\u001b[0;34m)\u001b[0m\u001b[0;34m:\u001b[0m\u001b[0;34m\u001b[0m\u001b[0m\n\u001b[0;32m-> 1124\u001b[0;31m         \u001b[0margs_command\u001b[0m\u001b[0;34m,\u001b[0m \u001b[0mtemp_args\u001b[0m \u001b[0;34m=\u001b[0m \u001b[0mself\u001b[0m\u001b[0;34m.\u001b[0m\u001b[0m_build_args\u001b[0m\u001b[0;34m(\u001b[0m\u001b[0;34m*\u001b[0m\u001b[0margs\u001b[0m\u001b[0;34m)\u001b[0m\u001b[0;34m\u001b[0m\u001b[0m\n\u001b[0m\u001b[1;32m   1125\u001b[0m \u001b[0;34m\u001b[0m\u001b[0m\n\u001b[1;32m   1126\u001b[0m         \u001b[0mcommand\u001b[0m \u001b[0;34m=\u001b[0m \u001b[0mproto\u001b[0m\u001b[0;34m.\u001b[0m\u001b[0mCALL_COMMAND_NAME\u001b[0m \u001b[0;34m+\u001b[0m\u001b[0;31m\\\u001b[0m\u001b[0;34m\u001b[0m\u001b[0m\n",
      "\u001b[0;32m/usr/local/spark/python/lib/py4j-0.10.4-src.zip/py4j/java_gateway.py\u001b[0m in \u001b[0;36m_build_args\u001b[0;34m(self, *args)\u001b[0m\n\u001b[1;32m   1086\u001b[0m     \u001b[0;32mdef\u001b[0m \u001b[0m_build_args\u001b[0m\u001b[0;34m(\u001b[0m\u001b[0mself\u001b[0m\u001b[0;34m,\u001b[0m \u001b[0;34m*\u001b[0m\u001b[0margs\u001b[0m\u001b[0;34m)\u001b[0m\u001b[0;34m:\u001b[0m\u001b[0;34m\u001b[0m\u001b[0m\n\u001b[1;32m   1087\u001b[0m         \u001b[0;32mif\u001b[0m \u001b[0mself\u001b[0m\u001b[0;34m.\u001b[0m\u001b[0mconverters\u001b[0m \u001b[0;32mis\u001b[0m \u001b[0;32mnot\u001b[0m \u001b[0;32mNone\u001b[0m \u001b[0;32mand\u001b[0m \u001b[0mlen\u001b[0m\u001b[0;34m(\u001b[0m\u001b[0mself\u001b[0m\u001b[0;34m.\u001b[0m\u001b[0mconverters\u001b[0m\u001b[0;34m)\u001b[0m \u001b[0;34m>\u001b[0m \u001b[0;36m0\u001b[0m\u001b[0;34m:\u001b[0m\u001b[0;34m\u001b[0m\u001b[0m\n\u001b[0;32m-> 1088\u001b[0;31m             \u001b[0;34m(\u001b[0m\u001b[0mnew_args\u001b[0m\u001b[0;34m,\u001b[0m \u001b[0mtemp_args\u001b[0m\u001b[0;34m)\u001b[0m \u001b[0;34m=\u001b[0m \u001b[0mself\u001b[0m\u001b[0;34m.\u001b[0m\u001b[0m_get_args\u001b[0m\u001b[0;34m(\u001b[0m\u001b[0margs\u001b[0m\u001b[0;34m)\u001b[0m\u001b[0;34m\u001b[0m\u001b[0m\n\u001b[0m\u001b[1;32m   1089\u001b[0m         \u001b[0;32melse\u001b[0m\u001b[0;34m:\u001b[0m\u001b[0;34m\u001b[0m\u001b[0m\n\u001b[1;32m   1090\u001b[0m             \u001b[0mnew_args\u001b[0m \u001b[0;34m=\u001b[0m \u001b[0margs\u001b[0m\u001b[0;34m\u001b[0m\u001b[0m\n",
      "\u001b[0;32m/usr/local/spark/python/lib/py4j-0.10.4-src.zip/py4j/java_gateway.py\u001b[0m in \u001b[0;36m_get_args\u001b[0;34m(self, args)\u001b[0m\n\u001b[1;32m   1073\u001b[0m                 \u001b[0;32mfor\u001b[0m \u001b[0mconverter\u001b[0m \u001b[0;32min\u001b[0m \u001b[0mself\u001b[0m\u001b[0;34m.\u001b[0m\u001b[0mgateway_client\u001b[0m\u001b[0;34m.\u001b[0m\u001b[0mconverters\u001b[0m\u001b[0;34m:\u001b[0m\u001b[0;34m\u001b[0m\u001b[0m\n\u001b[1;32m   1074\u001b[0m                     \u001b[0;32mif\u001b[0m \u001b[0mconverter\u001b[0m\u001b[0;34m.\u001b[0m\u001b[0mcan_convert\u001b[0m\u001b[0;34m(\u001b[0m\u001b[0marg\u001b[0m\u001b[0;34m)\u001b[0m\u001b[0;34m:\u001b[0m\u001b[0;34m\u001b[0m\u001b[0m\n\u001b[0;32m-> 1075\u001b[0;31m                         \u001b[0mtemp_arg\u001b[0m \u001b[0;34m=\u001b[0m \u001b[0mconverter\u001b[0m\u001b[0;34m.\u001b[0m\u001b[0mconvert\u001b[0m\u001b[0;34m(\u001b[0m\u001b[0marg\u001b[0m\u001b[0;34m,\u001b[0m \u001b[0mself\u001b[0m\u001b[0;34m.\u001b[0m\u001b[0mgateway_client\u001b[0m\u001b[0;34m)\u001b[0m\u001b[0;34m\u001b[0m\u001b[0m\n\u001b[0m\u001b[1;32m   1076\u001b[0m                         \u001b[0mtemp_args\u001b[0m\u001b[0;34m.\u001b[0m\u001b[0mappend\u001b[0m\u001b[0;34m(\u001b[0m\u001b[0mtemp_arg\u001b[0m\u001b[0;34m)\u001b[0m\u001b[0;34m\u001b[0m\u001b[0m\n\u001b[1;32m   1077\u001b[0m                         \u001b[0mnew_args\u001b[0m\u001b[0;34m.\u001b[0m\u001b[0mappend\u001b[0m\u001b[0;34m(\u001b[0m\u001b[0mtemp_arg\u001b[0m\u001b[0;34m)\u001b[0m\u001b[0;34m\u001b[0m\u001b[0m\n",
      "\u001b[0;32m/usr/local/spark/python/lib/py4j-0.10.4-src.zip/py4j/java_collections.py\u001b[0m in \u001b[0;36mconvert\u001b[0;34m(self, object, gateway_client)\u001b[0m\n\u001b[1;32m    498\u001b[0m         \u001b[0mArrayList\u001b[0m \u001b[0;34m=\u001b[0m \u001b[0mJavaClass\u001b[0m\u001b[0;34m(\u001b[0m\u001b[0;34m\"java.util.ArrayList\"\u001b[0m\u001b[0;34m,\u001b[0m \u001b[0mgateway_client\u001b[0m\u001b[0;34m)\u001b[0m\u001b[0;34m\u001b[0m\u001b[0m\n\u001b[1;32m    499\u001b[0m         \u001b[0mjava_list\u001b[0m \u001b[0;34m=\u001b[0m \u001b[0mArrayList\u001b[0m\u001b[0;34m(\u001b[0m\u001b[0;34m)\u001b[0m\u001b[0;34m\u001b[0m\u001b[0m\n\u001b[0;32m--> 500\u001b[0;31m         \u001b[0;32mfor\u001b[0m \u001b[0melement\u001b[0m \u001b[0;32min\u001b[0m \u001b[0mobject\u001b[0m\u001b[0;34m:\u001b[0m\u001b[0;34m\u001b[0m\u001b[0m\n\u001b[0m\u001b[1;32m    501\u001b[0m             \u001b[0mjava_list\u001b[0m\u001b[0;34m.\u001b[0m\u001b[0madd\u001b[0m\u001b[0;34m(\u001b[0m\u001b[0melement\u001b[0m\u001b[0;34m)\u001b[0m\u001b[0;34m\u001b[0m\u001b[0m\n\u001b[1;32m    502\u001b[0m         \u001b[0;32mreturn\u001b[0m \u001b[0mjava_list\u001b[0m\u001b[0;34m\u001b[0m\u001b[0m\n",
      "\u001b[0;32m/usr/local/spark/python/pyspark/sql/column.py\u001b[0m in \u001b[0;36m__iter__\u001b[0;34m(self)\u001b[0m\n\u001b[1;32m    248\u001b[0m \u001b[0;34m\u001b[0m\u001b[0m\n\u001b[1;32m    249\u001b[0m     \u001b[0;32mdef\u001b[0m \u001b[0m__iter__\u001b[0m\u001b[0;34m(\u001b[0m\u001b[0mself\u001b[0m\u001b[0;34m)\u001b[0m\u001b[0;34m:\u001b[0m\u001b[0;34m\u001b[0m\u001b[0m\n\u001b[0;32m--> 250\u001b[0;31m         \u001b[0;32mraise\u001b[0m \u001b[0mTypeError\u001b[0m\u001b[0;34m(\u001b[0m\u001b[0;34m\"Column is not iterable\"\u001b[0m\u001b[0;34m)\u001b[0m\u001b[0;34m\u001b[0m\u001b[0m\n\u001b[0m\u001b[1;32m    251\u001b[0m \u001b[0;34m\u001b[0m\u001b[0m\n\u001b[1;32m    252\u001b[0m     \u001b[0;31m# string methods\u001b[0m\u001b[0;34m\u001b[0m\u001b[0;34m\u001b[0m\u001b[0m\n",
      "\u001b[0;31mTypeError\u001b[0m: Column is not iterable"
     ]
    }
   ],
   "source": [
    "model = dt.fit(train['SalePrice'])"
   ]
  },
  {
   "cell_type": "code",
   "execution_count": null,
   "metadata": {
    "collapsed": true
   },
   "outputs": [],
   "source": []
  }
 ],
 "metadata": {
  "kernelspec": {
   "display_name": "Python 3",
   "language": "python",
   "name": "python3"
  },
  "language_info": {
   "codemirror_mode": {
    "name": "ipython",
    "version": 3
   },
   "file_extension": ".py",
   "mimetype": "text/x-python",
   "name": "python",
   "nbconvert_exporter": "python",
   "pygments_lexer": "ipython3",
   "version": "3.6.1"
  }
 },
 "nbformat": 4,
 "nbformat_minor": 2
}
